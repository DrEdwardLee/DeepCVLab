{
  "nbformat": 4,
  "nbformat_minor": 0,
  "metadata": {
    "colab": {
      "name": "Colab_Setup.ipynb",
      "provenance": [],
      "collapsed_sections": []
    },
    "kernelspec": {
      "name": "python3",
      "display_name": "Python 3"
    },
    "accelerator": "GPU"
  },
  "cells": [
    {
      "cell_type": "code",
      "execution_count": 0,
      "metadata": {
        "colab": {},
        "colab_type": "code",
        "id": "jEd97389k_4_"
      },
      "outputs": [],
      "source": [
        "# mount\n",
        "from google.colab import drive\n",
        "drive.mount('/content/drive')"
      ]
    },
    {
      "cell_type": "code",
      "execution_count": 0,
      "metadata": {
        "colab": {},
        "colab_type": "code",
        "id": "YrDqTMowdI3a"
      },
      "outputs": [],
      "source": [
        "# get git repo\n",
        "%cd /content/drive/My\\ Drive/Colab\\ Notebooks/DeepCV_Packages\n",
        "!rm -rf /content/drive/My\\ Drive/Colab\\ Notebooks/DeepCV_Packages/DeepCVLab\n",
        "!git clone https://github.com/pmcgrath249/DeepCVLab.git\n",
        "\n",
        "# copy data such that can remove whole repo without loosing the data\n",
        "!cp -r /content/drive/My\\ Drive/Colab\\ Notebooks/DeepCV_Packages/data /content/drive/My\\ Drive/Colab\\ Notebooks/DeepCV_Packages/DeepCVLab/deepcvlab/data\n",
        "\n",
        "# permanently change dir \n",
        "%cd /content/drive/My\\ Drive/Colab\\ Notebooks/DeepCV_Packages/DeepCVLab/deepcvlab\n",
        "\n",
        "# install waymo dataset utils in utils; https://github.com/waymo-research/waymo-open-dataset/blob/master/tutorial/tutorial.ipynb\n",
        "!cd utils && rm -rf waymo-od > /dev/null\n",
        "!cd utils && git clone https://github.com/waymo-research/waymo-open-dataset.git waymo-od\n",
        "!cd utils/waymo-od && git branch -a\n",
        "!cd utils/waymo-od && git checkout remotes/origin/r1.0\n",
        "!pip3 install --upgrade pip\n",
        "!pip3 install waymo-open-dataset\n",
        "\n",
        "# install requirements\n",
        "!cd /content/drive/My\\ Drive/Colab\\ Notebooks/DeepCV_Packages/DeepCVLab/ && pip3 install -r requirements.txt\n",
        "\n",
        "# install own package\n",
        "!cd /content/drive/My\\ Drive/Colab\\ Notebooks/DeepCV_Packages/DeepCVLab/ && python3 -m pip install .\n",
        "\n",
        "\n",
        "# directly retrieve data from google\n",
        "# https://medium.com/@philipplies/transferring-data-from-google-drive-to-google-cloud-storage-using-google-colab-96e088a8c041\n",
        "'''\n",
        "from google.colab import auth\n",
        "auth.authenticate_user()\n",
        "project_id = 'nifty-depth-246308'\n",
        "!gcloud config set project {project_id}\n",
        "!gsutil ls\n",
        "bucket_name = 'medium_demo_bucket_190710'\n",
        "!gsutil -m cp -r /content/mnt/My\\ Drive/Colab\\ Notebooks/DeepCV_Packages/* gs://{bucket_name}/\n",
        "'''"
      ]
    },
    {
      "cell_type": "code",
      "execution_count": null,
      "metadata": {},
      "outputs": [],
      "source": [
        "'''\n",
        "for waymo to work make sure tf is version 1.x\n",
        "for tensorboard to work enable 3rd party cookies in your browser\n",
        "'''\n",
        "# import\n",
        "%cd /content/drive/My\\ Drive/Colab\\ Notebooks/DeepCV_Packages/DeepCVLab/\n",
        "from deepcvlab.utils.Dense_U_Net_lidar_helper import get_config\n",
        "from deepcvlab.agents.Dense_U_Net_lidar_Agent import Dense_U_Net_lidar_Agent as Dense_U_Agent\n",
        "\n",
        "config = get_config()\n",
        "config.agent.max_epoch = 100\n",
        "\n",
        "# use tensorboard to visualize\n",
        "%load_ext tensorboard\n",
        "%tensorboard --logdir {os.path.join(*config.dir.summary.split('/')[-2:])}\n",
        "\n",
        "# start training\n",
        "agent = Dense_U_Agent(config=config, torchvision_init=True)\n",
        "agent.run()\n",
        "agent.finalize()"
      ]
    }
  ]
}