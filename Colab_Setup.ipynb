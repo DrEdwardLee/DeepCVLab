{
  "nbformat": 4,
  "nbformat_minor": 0,
  "metadata": {
    "colab": {
      "name": "Colab_Setup.ipynb",
      "provenance": [],
      "collapsed_sections": []
    },
    "kernelspec": {
      "name": "python3",
      "display_name": "Python 3"
    },
    "accelerator": "GPU"
  },
  "cells": [
    {
      "cell_type": "code",
      "execution_count": 0,
      "metadata": {
        "colab": {},
        "colab_type": "code",
        "id": "jEd97389k_4_"
      },
      "outputs": [],
      "source": [
        "# mount\n",
        "from google.colab import drive\n",
        "drive.mount('/content/drive')"
      ]
    },
    {
      "cell_type": "code",
      "execution_count": 0,
      "metadata": {
        "colab": {},
        "colab_type": "code",
        "id": "e_BHgcITRsCY"
      },
      "outputs": [],
      "source": [
        "# get git repo\n",
        "%cd /content/drive/My\\ Drive/Colab\\ Notebooks/DeepCV_Packages\n",
        "!rm -rf /content/drive/My\\ Drive/Colab\\ Notebooks/DeepCV_Packages/DeepCVLab\n",
        "!git clone https://github.com/pmcgrath249/DeepCV_Lab.git"
      ]
    },
    {
      "cell_type": "code",
      "execution_count": 0,
      "metadata": {
        "colab": {},
        "colab_type": "code",
        "id": "vZREa-2-mQaw"
      },
      "outputs": [],
      "source": [
        "# move data\n",
        "!mkdir /content/drive/My\\ Drive/Colab\\ Notebooks/DeepCV_Packages/DeepCVLab/src/data\n",
        "!cp /content/drive/My\\ Drive/Colab\\ Notebooks/DeepCV_Packages/data/data.tfrecord /content/drive/My\\ Drive/Colab\\ Notebooks/DeepCV_Packages/DeepCVLab/src/data/data.tfrecord"
      ]
    },
    {
      "cell_type": "code",
      "execution_count": 0,
      "metadata": {
        "colab": {},
        "colab_type": "code",
        "id": "YrDqTMowdI3a"
      },
      "outputs": [],
      "source": [
        "# permanently change dir\n",
        "%cd /content/drive/My\\ Drive/Colab\\ Notebooks/DeepCV_Packages/DeepCVLab/src\n",
        "\n",
        "# install waymo dataset utils in utils; https://github.com/waymo-research/waymo-open-dataset/blob/master/tutorial/tutorial.ipynb\n",
        "!cd utils && rm -rf waymo-od > /dev/null\n",
        "!cd utils && git clone https://github.com/waymo-research/waymo-open-dataset.git waymo-od\n",
        "!cd utils/waymo-od && git branch -a\n",
        "!cd utils/waymo-od && git checkout remotes/origin/r1.0\n",
        "!pip3 install --upgrade pip\n",
        "!pip3 install waymo-open-dataset\n",
        "\n",
        "# install requirements\n",
        "!cd /content/drive/My\\ Drive/Colab\\ Notebooks/DeepCV_Packages/DeepCVLab/ && pip3 install -r requirements.txt\n",
        "\n",
        "# install own package\n",
        "!cd /content/drive/My\\ Drive/Colab\\ Notebooks/DeepCV_Packages/DeepCVLab/ && pip3 install -e .\n",
        "\n",
        "# directly retrieve data from google\n",
        "# https://medium.com/@philipplies/transferring-data-from-google-drive-to-google-cloud-storage-using-google-colab-96e088a8c041\n",
        "'''\n",
        "from google.colab import auth\n",
        "auth.authenticate_user()\n",
        "project_id = 'nifty-depth-246308'\n",
        "!gcloud config set project {project_id}\n",
        "!gsutil ls\n",
        "bucket_name = 'medium_demo_bucket_190710'\n",
        "!gsutil -m cp -r /content/mnt/My\\ Drive/Colab\\ Notebooks/DeepCV_Packages/* gs://{bucket_name}/\n",
        "'''"
      ]
    }
  ]
}